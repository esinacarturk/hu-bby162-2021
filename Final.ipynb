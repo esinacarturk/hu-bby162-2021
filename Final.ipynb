{
  "nbformat": 4,
  "nbformat_minor": 0,
  "metadata": {
    "colab": {
      "name": "Final.ipynb",
      "provenance": [],
      "mount_file_id": "1as48bMuGPxe6ZUt65aHGmWlrj_cVke7k",
      "authorship_tag": "ABX9TyPnUlh2OwC4RGXqCGfqtRll",
      "include_colab_link": true
    },
    "kernelspec": {
      "name": "python3",
      "display_name": "Python 3"
    },
    "language_info": {
      "name": "python"
    }
  },
  "cells": [
    {
      "cell_type": "markdown",
      "metadata": {
        "id": "view-in-github",
        "colab_type": "text"
      },
      "source": [
        "<a href=\"https://colab.research.google.com/github/esinacarturk/hu-bby162-2021/blob/main/Final.ipynb\" target=\"_parent\"><img src=\"https://colab.research.google.com/assets/colab-badge.svg\" alt=\"Open In Colab\"/></a>"
      ]
    },
    {
      "cell_type": "code",
      "metadata": {
        "colab": {
          "base_uri": "https://localhost:8080/"
        },
        "id": "8TNzu9c73bN5",
        "outputId": "3b9dc9c7-79e9-4ef9-d61e-f5a20d27eda0"
      },
      "source": [
        "dosya =  \"/content/drive/MyDrive/Colab Notebooks/Final.txt\"\n",
        "def eserListesi():\n",
        "  dosya =  \"/content/drive/MyDrive/Colab Notebooks/Final.txt\"\n",
        "  f = open(dosya, \"r\") \n",
        "\n",
        "  for line in f.readlines():\n",
        "      print(line)\n",
        "\n",
        "  f.close()\n",
        "\n",
        "\n",
        "\n",
        "def eserKaydet():\n",
        "  ad = input(\" Eser adını giriniz: \")\n",
        "  yazar = input(\" Yazar adını giriniz: \")\n",
        "  yayın = input(\" Yayınevi bilgisini  giriniz: \")\n",
        "  basım = input(\" Basım tarihini giriniz: \")\n",
        "  Isbn = input(\" ISBN numarasını giriniz: \")\n",
        "\n",
        "  dosya = \"/content/drive/MyDrive/Colab Notebooks/Final.txt\"\n",
        "  f = open(dosya, 'a') \n",
        "  f.write(ad+ \",\" +yazar+ \".\" +yayın+ \",\" +basım+ \",\" +Isbn+ \"\\n\")\n",
        "  f.close() \n",
        "\n",
        "  \n",
        "\n",
        "def menu():\n",
        "  print(\" * Kütüphane Kataloğu *\")\n",
        "  while True: # \n",
        "    print(\" 1- Çıkış yapmak için\")\n",
        "    print(\" 2- Eseri görüntülemek için\")\n",
        "    print(\" 3- Eseri Kaydetmek için\")\n",
        "    islem = input(\" Yapmak istediğiniz işlemi seçiniz (1/3): \")\n",
        "    if islem == \"1\":\n",
        "      print(\" Çıkış yapıldı\")\n",
        "      break \n",
        "    elif islem == \"2\": \n",
        "      eserListesi()\n",
        "    elif islem == \"3\":\n",
        "      eserKaydet()\n",
        "      \n",
        "menu() "
      ],
      "execution_count": 2,
      "outputs": [
        {
          "output_type": "stream",
          "text": [
            " * Kütüphane Kataloğu *\n",
            " 1- Çıkış yapmak için\n",
            " 2- Eseri görüntülemek için\n",
            " 3- Eseri Kaydetmek için\n",
            " Yapmak istediğiniz işlemi seçiniz (1/3): 2\n",
            "Sineklerin Tanrısı, William Golding, Türkiye İş Bankası Kültür Yayınları, 2001, 9789754582901\n",
            "\n",
            "Kırmızı Pazartesi, Gabriel Garcia Marquez, Can Sanat Yayınları, 1982, 9789750721571\n",
            "\n",
            "Fareler ve İnsanlar, John Steinbeck, Remzi Kitabevi, 1937, 9751409071\n",
            "\n",
            "Patasana, Ahmet Ümit, Doğan Kitap, 2000, 9752930514\n",
            "\n",
            "Sofi'nin Dünyası, Jostein Gaarder, Pan Yayıncılık, 1994, 9757652415\n",
            "\n",
            "Kanadı Kırık Kuşlar, Ayşe Kulin, Everest Yayınları, 2014, 9786051850788\n",
            "\n",
            "Hasret, Canan Tan, Doğan Kitap, 2013, 9786050913149Sineklerin Tanrısı-William Golding-Türkiye İş Bankası Küle İş Bankası Kültür Yayınları-2001-9789754582901-\n",
            "\n",
            "Sineklerin Tanrısı-William Golding-Türkiye İş Bankası Yayınları-2001- 9789754582901-\n",
            "\n",
            " 1- Çıkış yapmak için\n",
            " 2- Eseri görüntülemek için\n",
            " 3- Eseri Kaydetmek için\n",
            " Yapmak istediğiniz işlemi seçiniz (1/3): 1\n",
            " Çıkış yapıldı\n"
          ],
          "name": "stdout"
        }
      ]
    }
  ]
}